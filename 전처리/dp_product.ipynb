{
 "cells": [
  {
   "cell_type": "code",
   "execution_count": 75,
   "metadata": {},
   "outputs": [],
   "source": [
    "import pandas as pd\n",
    "import numpy as np\n",
    "import matplotlib.pyplot as plt\n",
    "import datetime\n",
    "import seaborn as sns\n",
    "from datetime import timedelta\n",
    "\n",
    "#한글 폰트 \n",
    "plt.rc('font', family='NanumBarunGothic') "
   ]
  },
  {
   "cell_type": "code",
   "execution_count": 76,
   "metadata": {},
   "outputs": [],
   "source": [
    "#데이터 로드 \n",
    "product = pd.read_csv('product.csv', on_bad_lines='skip')"
   ]
  },
  {
   "cell_type": "code",
   "execution_count": 77,
   "metadata": {},
   "outputs": [
    {
     "name": "stdout",
     "output_type": "stream",
     "text": [
      "<class 'pandas.core.frame.DataFrame'>\n",
      "RangeIndex: 44424 entries, 0 to 44423\n",
      "Data columns (total 10 columns):\n",
      " #   Column              Non-Null Count  Dtype  \n",
      "---  ------              --------------  -----  \n",
      " 0   id                  44424 non-null  int64  \n",
      " 1   gender              44424 non-null  object \n",
      " 2   masterCategory      44424 non-null  object \n",
      " 3   subCategory         44424 non-null  object \n",
      " 4   articleType         44424 non-null  object \n",
      " 5   baseColour          44409 non-null  object \n",
      " 6   season              44403 non-null  object \n",
      " 7   year                44423 non-null  float64\n",
      " 8   usage               44107 non-null  object \n",
      " 9   productDisplayName  44417 non-null  object \n",
      "dtypes: float64(1), int64(1), object(8)\n",
      "memory usage: 3.4+ MB\n"
     ]
    }
   ],
   "source": [
    "product.info()"
   ]
  },
  {
   "cell_type": "code",
   "execution_count": 78,
   "metadata": {},
   "outputs": [
    {
     "data": {
      "text/plain": [
       "id                      0\n",
       "gender                  0\n",
       "masterCategory          0\n",
       "subCategory             0\n",
       "articleType             0\n",
       "baseColour             15\n",
       "season                 21\n",
       "year                    1\n",
       "usage                 317\n",
       "productDisplayName      7\n",
       "dtype: int64"
      ]
     },
     "execution_count": 78,
     "metadata": {},
     "output_type": "execute_result"
    }
   ],
   "source": [
    "product.isnull().sum()"
   ]
  },
  {
   "cell_type": "code",
   "execution_count": 79,
   "metadata": {},
   "outputs": [],
   "source": [
    "#baseColour 결측치 productDisplayName 통해서 변경 및 제품 검색으로 변경\n",
    "product.at[6206, 'baseColour'] = 'Blue'\n",
    "product.at[9516, 'baseColour'] = 'Black'\n",
    "product.at[12763, 'baseColour'] = 'Blue'\n",
    "product.at[14291, 'baseColour'] = 'White' # 제품 이름도 없어서 여자 미스트 제품이기에 화이트로 선택\n",
    "product.at[15526, 'baseColour'] = 'White' # 제품 검색해서 색 찾음\n",
    "product.at[15708, 'baseColour'] = 'Blue'\n",
    "product.at[17268, 'baseColour'] = 'Green'\n",
    "product.at[17639, 'baseColour'] = 'Black'\n",
    "product.at[20209, 'baseColour'] = 'Blue'\n",
    "product.at[23484, 'baseColour'] = 'Black' # 제품 검색해서 색 찾음\n",
    "product.at[34553, 'baseColour'] = 'Blue'\n",
    "product.at[37531, 'baseColour'] = 'Black' # 제품 이름도 없어서 남자 미스트 제품이기에 블랙으로 선택\n",
    "product.at[40675, 'baseColour'] = 'Black' # 남자 미스트 제품이기에 블랙으로 선택\n",
    "product.at[43260, 'baseColour'] = 'Gold'\n",
    "product.at[44224, 'baseColour'] = 'Gold' #제품 검색해서 색 찾음"
   ]
  },
  {
   "cell_type": "code",
   "execution_count": 80,
   "metadata": {},
   "outputs": [],
   "source": [
    "#시즌 결측치 해결방법 : 결측치 기준으로 앞뒤 확인 후 같으면 같은 시즌으로 변경\n",
    "product.at[282, 'season'] = 'Summer'\n",
    "product.at[5997, 'season'] = 'Summer'\n",
    "product.at[6510, 'season'] = 'Fall' #제품 검색해서 찾음\n",
    "product.at[12658, 'season'] = 'Summer'\n",
    "product.at[12994, 'season'] = 'Summer'\n",
    "product.at[13523, 'season'] = 'Summer' #제품 검색해서 찾음\n",
    "product.at[16042, 'season'] = 'Fall' #제품 검색해서 찾음\n",
    "product.at[21272, 'season'] = 'Summer' #제품 검색해서 찾음 축구화라 여름으로 지정\n",
    "product.at[23835, 'season'] = 'Fall'\n",
    "product.at[24198, 'season'] = 'Summer'\n",
    "product.at[27725, 'season'] = 'Fall'\n",
    "product.at[30113, 'season'] = 'Summer' #제품 검색해서 찾음 축구화라 여름으로 지정\n",
    "product.at[30445, 'season'] = 'Summer' #제품 검색해서 찾음 축구화라 여름으로 지정\n",
    "product.at[32246, 'season'] = 'Summer' #제품 검색해서 찾음 축구화라 여름으로 지정\n",
    "product.at[32615, 'season'] = 'Summer'\n",
    "product.at[33691, 'season'] = 'Fall' #제품 검색해서 찾음 작업화라 가을로 지정\n",
    "product.at[33852, 'season'] = 'Summer'\n",
    "product.at[34357, 'season'] = 'Summer'\n",
    "product.at[34519, 'season'] = 'Fall' #제품 검색해서 찾음\n",
    "product.at[36121, 'season'] = 'Summer' #제품 검색해서 찾음\n",
    "product.at[36874, 'season'] = 'Summer'"
   ]
  },
  {
   "cell_type": "code",
   "execution_count": 81,
   "metadata": {},
   "outputs": [],
   "source": [
    "#년도 결측치 해결방법 : id 기준으로 53779부터 53785까지 조회결과 Puma제품으로 2012년도에 출시로 되어 있어서 2012로 변경\n",
    "product.at[21272, 'year'] = 2012.0"
   ]
  },
  {
   "cell_type": "code",
   "execution_count": 82,
   "metadata": {},
   "outputs": [],
   "source": [
    "# productDisplayName 결측치 ID 기준으로 앞뒤열 확인 후 같으면 브랜드와 카테고리로 이름 변경\n",
    "product.at[3677, 'productDisplayName'] = 'French Connection Women Maroon Clutch'\n",
    "product.at[14291, 'productDisplayName'] = 'Perfume and Body Mist Women' #앞뒤 브랜드가 없어서 임시 이름으로 만듬\n",
    "product.at[17639, 'productDisplayName'] = 'TOUS men Perfume'\n",
    "product.at[22089, 'productDisplayName'] = 'French Connection Women Brown Bag'\n",
    "product.at[23484, 'productDisplayName'] = 'TOUS Women Perfume and Body Mist'\n",
    "product.at[37531, 'productDisplayName'] = 'Perfume and Body Mist Men' #앞뒤 브랜드가 없어서 임시 이름으로 만듬\n",
    "product.at[40675, 'productDisplayName'] = 'GUESS Perfume and Body Mist'\n",
    "product.at[21844, 'productDisplayName'] = 'Catwalk Women Black Sandals' #이름 productDisplayName으로 되어있는 것 변경\n",
    "product.at[9013, 'productDisplayName'] = 'Ayaanay Women New 2013 Tunics Size Chart.jpg' #이름 띄어쓰기로 변경\n",
    "product.at[5592, 'productDisplayName'] = 'Ayaanay Women New 2013 Tunics Size Chart.jpg' #이름 띄어쓰기로 변경\n",
    "product.at[11805, 'productDisplayName'] = 'Playboy Men Black Shoes' #이름 띄어쓰기로 변경\n",
    "product.at[8539, 'productDisplayName'] = 'Red Tape Men Casual Brown Sandals' #이름 검색해서 변경\n",
    "product.at[3482, 'productDisplayName'] = \"Levi's Men Comfort Style Beige Innerwear Vest\" #이름 검색해서 변경"
   ]
  },
  {
   "cell_type": "code",
   "execution_count": 83,
   "metadata": {},
   "outputs": [],
   "source": [
    "# usage 결측치 처리 : 각 데이터 검색 후 브랜드와 맞는 데이터로 변경\n",
    "changes1 = {\n",
    "    87: 'Casual', 1272: 'Casual',3307: 'Casual', 3472: 'Casual', 5871: 'Casual', 6090: 'Casual', 6262: 'Casual', 7831: 'Casual', \n",
    "    7848: 'Casual', 8490: 'Casual', 9603: 'Casual', 10118: 'Casual', 10334: 'Casual', 13598: 'Casual', 15464: 'Casual', 17470: 'Casual', \n",
    "    17733: 'Casual', 18085: 'Casual', 18410: 'Casual', 18566: 'Casual', 19517: 'Casual', 19843: 'Casual', 21091: 'Casual', 21600: 'Casual', \n",
    "    21977: 'Casual', 23689: 'Casual', 24497: 'Casual', 24545: 'Casual', 24882: 'Casual', 26697: 'Casual', 26925: 'Casual', 27075: 'Casual', \n",
    "    28966: 'Casual', 30135: 'Casual', 30654: 'Casual', 31036: 'Casual', 32414: 'Casual', 32826: 'Casual', 34720: 'Casual', 37691: 'Casual', \n",
    "    38947: 'Casual', 39104: 'Casual', 39268: 'Casual', 39419: 'Casual', 40280: 'Casual', 40998: 'Casual', 41930: 'Casual', 42438: 'Casual', \n",
    "    42484: 'Casual', 42755: 'Casual', 43463: 'Casual', 511: 'Casual', 1166: 'Casual',2801: 'Casual', 3721: 'Casual', 4033: 'Casual', 5714: 'Casual', \n",
    "    6207: 'Casual', 6517: 'Casual', 6834: 'Casual', 7992: 'Casual', 8635: 'Casual', 8835: 'Casual', 9848: 'Casual', 17456: 'Casual', 19702: 'Casual', \n",
    "    20027: 'Casual', 20191: 'Casual', 20792: 'Casual', 21035: 'Casual', 21203: 'Casual', 24266: 'Casual', 27268: 'Casual', 29867: 'Casual', 30496: 'Casual', \n",
    "    32345: 'Casual', 32890: 'Casual', 33168: 'Casual', 40083: 'Casual', 40586: 'Casual', 40852: 'Casual', 41645: 'Casual', 42466: 'Casual', \n",
    "    42920: 'Casual', 43252: 'Casual', 44079: 'Casual', 292: 'Casual', 479: 'Casual',899: 'Casual', 1529: 'Casual', 1799: 'Casual', 2088: 'Casual', \n",
    "    2604: 'Casual', 3476: 'Casual', 3609: 'Casual', 4234: 'Casual', 4657: 'Casual', 5208: 'Casual', 11648: 'Casual', 17366: 'Casual', 17753: 'Casual', \n",
    "    18089: 'Casual', 18310: 'Casual', 18874: 'Casual', 19572: 'Casual', 19883: 'Casual', 20306: 'Casual', 21006: 'Casual', 21587: 'Casual', 22013: 'Casual', \n",
    "    22443: 'Casual', 22674: 'Casual', 23091: 'Casual', 23297: 'Casual', 23766: 'Casual', 24037: 'Casual', 24573: 'Casual', 24639: 'Casual', \n",
    "    24858: 'Casual', 25122: 'Casual', 25703\t: 'Casual', 26337: 'Casual', 26920: 'Casual', 27669: 'Casual', 34925: 'Casual', 35502: 'Casual', \n",
    "    37872: 'Casual', 39098: 'Casual', 39265: 'Casual', 39284: 'Casual', 39685: 'Casual', 39829: 'Casual', 40059\t: 'Casual', 40116: 'Casual', \n",
    "    40581: 'Casual', 40845: 'Casual', 41841: 'Casual', 42211: 'Casual', 42481: 'Casual', 43122: 'Casual', 44227: 'Casual', 92: 'Casual', 900: 'Casual', \n",
    "    2119: 'Casual', 2587: 'Casual', 3467: 'Casual', 3843: 'Casual', 4272: 'Casual', 4639: 'Casual', 18556: 'Casual', 39096: 'Casual', 42762: 'Casual',\n",
    "    3537: 'Casual', 3795: 'Casual', 10562: 'Casual', 11337: 'Casual', 13752: 'Casual', 15109: 'Casual', 17834: 'Casual', 19509: 'Casual', \n",
    "    23950: 'Casual', 27165: 'Casual', 28086: 'Casual', 31010: 'Casual', 31848: 'Casual', 35310: 'Casual', 38368: 'Casual', 38523: 'Casual', \n",
    "    40488: 'Casual', 41115: 'Casual', 43448: 'Casual', 44343: 'Casual', 14291: 'Casual', 17268: 'Casual', 17639: 'Casual', 17895: 'Casual', 19619: 'Casual', \n",
    "    23484: 'Casual', 37531: 'Casual', 40675: 'Casual', 43260: 'Casual', 44224: 'Casual', 699: 'Casual', 912: 'Casual', 955: 'Casual', 1286: 'Casual', \n",
    "    1494: 'Casual', 1548: 'Casual', 1816: 'Casual', 2599: 'Casual', 3220: 'Casual', 3271: 'Casual', 3821: 'Casual', 4053: 'Casual', 4218: 'Casual', \n",
    "    4642: 'Casual', 4892: 'Casual', 5062: 'Casual', 5211: 'Casual', 5367: 'Casual', 5634: 'Casual', 6473: 'Casual', 6792: 'Casual', 6891: 'Casual', \n",
    "    7348: 'Casual', 8164: 'Casual', 8482: 'Casual', 10747: 'Casual', 10812: 'Casual', 11130: 'Casual', 11498: 'Casual', 11873: 'Casual', 11879: 'Casual', \n",
    "    12643: 'Casual', 12990: 'Casual', 13471: 'Casual', 13687: 'Casual', 13944: 'Casual', 14249: 'Casual', 14610: 'Casual', 15041: 'Casual', 15238: 'Casual', \n",
    "    16056: 'Casual', 16386: 'Casual', 16677: 'Casual', 17032: 'Casual', 18226: 'Casual', 20570: 'Casual', 21081: 'Casual', 21183: 'Casual', \n",
    "    21591: 'Casual', 21644: 'Casual', 21968: 'Casual', 22649: 'Casual', 22695: 'Casual', 24272: 'Casual', 24555: 'Casual', 25324: 'Casual', \n",
    "    25407: 'Casual', 25645: 'Casual', 25710: 'Casual', 25878: 'Casual', 25923: 'Casual', 26043: 'Casual', 26210: 'Casual', 26549: 'Casual', \n",
    "    26880: 'Casual', 27285: 'Casual', 27418: 'Casual', 28392: 'Casual', 28597: 'Casual', 28811: 'Casual', 29041: 'Casual', 29688: 'Casual', \n",
    "    30120: 'Casual', 30460: 'Casual', 30662: 'Casual', 30901: 'Casual', 30991: 'Casual', 31306: 'Casual', 31839: 'Casual', 31929: 'Casual', \n",
    "    32236: 'Casual', 32253: 'Casual', 32450: 'Casual', 32573: 'Casual', 33335: 'Casual', 33344: 'Casual', 33840: 'Casual', 34283: 'Casual', \n",
    "    34463: 'Casual', 35047: 'Casual', 35123: 'Casual', 36320: 'Casual', 36775: 'Casual', 36865: 'Casual', 36876: 'Casual', 37205: 'Casual',\n",
    "    37371: 'Casual', 37553: 'Casual', 38343: 'Casual', 38935: 'Casual', 39304: 'Casual', 40075: 'Casual', 40306: 'Casual', 40811: 'Casual', \n",
    "    41448: 'Casual', 41694: 'Casual', 41925: 'Casual', 42426: 'Casual', 42472: 'Casual', 42846: 'Casual', 43083: 'Casual', 43633: 'Casual', \n",
    "    559: 'Casual', 9958: 'Casual', 14419: 'Casual', 23373: 'Casual', 41270: 'Casual', 43568: 'Casual', 1184: 'Casual', 26981: 'Casual', 42382: 'Casual',\n",
    "    8539: 'Casual', 17195: 'Casual', 17850: 'Casual', 33825: 'Casual', 37349: 'Casual', 11610: 'Casual', 12258: 'Casual', 13935: 'Casual', 14844: 'Casual', \n",
    "    34881: 'Casual', 38416: 'Casual', 38849: 'Casual', 39430: 'Formal', 19005: 'Formal'\n",
    "}\n",
    "\n",
    "for index, value in changes1.items():\n",
    "    product.at[index, 'usage'] = value"
   ]
  },
  {
   "cell_type": "code",
   "execution_count": 84,
   "metadata": {},
   "outputs": [],
   "source": [
    "brand_mapping = {\n",
    "    'Red Tape': 'Red_Tape', 'Numero Uno': 'Numero_Uno', 'Carlton London': 'Carlton_London', 'Classic Polo': 'Classic_Polo', 'Lee Cooper': 'Lee_Cooper', 'iD': 'ID',\n",
    "    'Kochi Tuskers': 'Kochi_Tuskers', 'Status Quo': 'Status_Quo', 'Urban Yoga': 'Urban_Yoga', 'Jealous 21': 'Jealous_21', 'Numero Uno': 'Numero_Uno', 'Gini and JonyBoys': 'Gini and Jony Boys',\n",
    "    'Free Authority': 'Free_Authority', 'Smashing Pumpkins': 'Smashing_Pumpkins', 'Marvel Comics': 'Marvel_Comics', 'DC Comics': 'DC_Comics', 'Billy Idol': 'Billy_Idol', \n",
    "    'Pink Floyd': 'Pink_Floyd', 'Sher Singh': 'Sher_Singh', 'Gini and Jony': 'Gini_and_Jony', 'Being Human': 'Being_Human', 'Ed Hardy': 'Ed_Hardy', 'La-Emotio': 'La_Emotio',\n",
    "    'Dark Knight': 'Dark_Knight', 'Linkin Park': 'Linkin_Park', 'Pink Floyd': 'Pink_Floyd', 'Lee Cooper': 'Lee_Cooper', '2go Active Gear USA': '2go_Active_Gear_USA', \n",
    "    'Adidas': 'ADIDAS', 'Alayna': 'ALayna', 'Allen Solly': 'Allen_Solly', 'American Tourister': 'American_Tourister','AMERICAN TOURISTER': 'American_Tourister', \n",
    "    'Angry Birds': 'Angry_Birds', 'ANT': 'Ant', 'aramis': 'Aramis', 'ASICS': 'Asics', 'Be For Bag': 'Be_For_Bag','Belkin Unisex': 'Belkin_Unisex', 'Ben 10 Boys': 'Ben_10_Boys', \n",
    "    'BIBA': 'Biba', 'BIba': 'Biba', 'Black coffee': 'Black_Coffee', 'Black Coffee': 'Black_Coffee', 'BOSS': 'Boss', 'Bw!tch': 'Bwitch', 'C Vox': 'CVox', \n",
    "    'CABARELLI': 'Cabarelli', 'Carlos Moya': 'Carlos_Moya', 'Carolina Herrera': 'Carolina_Herrera', 'CASIO': 'Casio', 'Celine Dion': 'Celine_Dion', 'Che Guevara': 'Che_Guevara', \n",
    "    'Chhota Bheem': 'Chhota_Bheem', 'Chromozone': 'Chromozome', 'ColorBar': 'Colorbar', 'Colour me': 'Colour_Me', 'Colour Me': 'Colour_Me', 'David Beckham': 'David_Beckham', \n",
    "    'Delhi Daredevils': 'Delhi_Daredevils', 'Deni Yo': 'Deni_Yo', 'Do u speak': 'Do_U_speak', 'Do U Speak': 'Do_U_speak', 'Dolce & Gabbana': 'Dolce&Gabbana', \n",
    "    'dunhil': 'Dunhill', 'ESPRIT': 'Esprit', 'Estd. 1977': 'Estd.1977', 'Estee Lauder': 'Estee_Lauder', 'F Sports': 'F_Sports', 'Fifa': 'FIFA', 'Fila': 'FILA', 'FILAc': 'FILA',\n",
    "    'Flying Machine': 'Flying_Machine', 'Force 10': 'Force_10', 'Forever New': 'Forever_New', 'Formula 1': 'Formula_1', 'FOSSIL': 'Fossil', 'Franco Leone': 'Franco_Leone',\n",
    "    'French Connection': 'French_Connection', 'Fruit of the Loom': 'Fruit_of_the_Loom', 'Fusion Beats': 'Fusion_Beats', 'Gas': 'GAS', 'Giny and Jony': 'Gini_and_Jony',\n",
    "    'GIORDANO': 'Giordano', 'Global Desi': 'Global_Desi', 'GUESS': 'Guess', 'Hannah Montana': 'Hannah_Montana', 'Happy Socks': 'Happy_Socks', 'Heart 2 Heart': 'Heart_2_Heart', \n",
    "    'Hear 2 Heart': 'Heart_2_Heart', 'HIghlander': 'Highlander', 'Hop Scotch': 'Hop_Scotch', 'HUGO': 'Hugo', 'Hush Puppies': 'Hush_Puppies', 'I Dee': 'Idee',\n",
    "    'IDEE': 'Idee', 'Inc 5': 'Inc_5', 'Inc. 5': 'Inc_5', 'Inc.5': 'Inc_5', 'Indian Terrain': 'Indian_Terrain', 'Indigo Nation': 'Indigo_Nation', 'Ivory Tag': 'Ivory_Tag', \n",
    "    'J. DEL POZO': 'J.Del_Pozo', 'J. Del Pozo': 'J.Del_Pozo', 'J.Del Pozo': 'J.Del_Pozo', 'Jack & Jones': 'Jack&Jones', 'Jacques M': 'Jacques_M', 'JAGUAR': 'Jaguar', \n",
    "    'Jimi Hendrix': 'Jimi_Hendrix', 'John Lenon': 'John_Lenon', 'John Players': 'John_Players', 'John Miller': 'John_Miller', 'Jungle Book': 'Jungle_Book', \n",
    "    'Just Natural': 'Just_Natural', 'Just Cavalli': 'Just_Cavalli', 'Kama Sutra': 'Kama_Sutra', 'Kenneth Cole': 'Kenneth_Cole', 'KIARA': 'Kiara', 'Kids Ville': 'Kids_Ville', \n",
    "    'Kraus Jeans': 'Kraus_Jeans', 'Kylie Minogue': 'Kylie_Minogue', 'La Emotio': 'La_Emotio', 'Latin Quarters': 'Latin_Quarters',  \n",
    "    'Lino Perros': 'Lino_Perros', 'Little Miss': 'Little_Miss', 'LOCOMOTIVE': 'Locomotive', 'Lotus Herbals': 'Lotus_Herbals', 'Louis Philippe': 'Louis_Philippe', \n",
    "    'Love Passport': 'Love_Passport', 'M tv': 'M_tv', 'M Tv': 'M_tv', 'Madagascar 3': 'Madagascar3', 'Madagascar ': 'Madagascar3 ', 'Manchester United': 'Manchester_United',\n",
    "    'Mark Taylor': 'Mark_Taylor', 'Miami Blues': 'Miami_Blues', 'Miki Pearl': 'Miki_Pearl', 'Miss Sixty': 'Miss_Sixty', \"Mod-acc\": \"Mod'acc\", 'Miss Sixty': 'Miss_Sixty', \n",
    "    'Mont Blanc': 'Mont_Blanc', 'Mother Earth': 'Mother_Earth', 'Mr. Men': 'Mr.Men', 'Mtv': 'M_tv', 'New Hide': 'New_Hide', 'Rassasi': 'Rasasi', 'Redtape': 'Red_Tape',\n",
    "    'New Balance': 'New_Balance', 'Nina Ricci': 'Nina_Ricci', 'Old Spice': 'Old_Spice', 'Only': 'ONLY', 'Pacific Gold': 'Pacific_Gold', 'Paco Rabanne': 'Paco_Rabanne', \n",
    "    'Pal Zileri': 'Pal_Zileri', 'Palm Tree': 'Palm_Tree', 'Paris Hilton': 'Paris_Hilton', 'Park Avenue': 'Park_Avenue', 'Pepe Jeans': 'Pepe_Jeans', 'Peri Peri': 'Peri_Peri', \n",
    "    'Perry Ellis': 'Perry_Ellis', 'Peter England': 'Peter_England', 'Pierre Cardin': 'Pierre_Cardin', \"Pond's\": \"Ponds\", 'Provouge': 'Provogue', 'PUMA': 'Puma', \n",
    "    'Pune Warriors': 'Pune_Warriors', 'Quick Silver': 'Quiksilver', 'Rajasthan Royals': 'Rajasthan_Royals', 'Ralph Lauren': 'Ralph_Lauren', 'Ray Ban': 'Ray-Ban', \n",
    "    'Rayban': 'Ray-Ban', 'Regent Polo': 'Regent_Polo', 'Reid & Taylor': 'Reid&Taylor', 'Rising Wave': 'Rising_Wave', 'RNC Unisex': 'RNC_Unisex', 'Rocky S': 'Rocky_S', \n",
    "    'Rolling Stone': 'Rolling_Stone', 'roxy': 'Roxy', 'Royal Diadem': 'Royal_Diadem', 'S.Oliver': 's.Oliver', 'Saint James': 'Saint_James', 'Salvatore Ferragamo': 'Salvatore_Ferragamo',\n",
    "    'Satya Paul': 'Satya_Paul', 'SDL by Sweet Dreams': 'SDL_by_Sweet_Dreams', 'Secret Temptation': 'Secret_Temptation', 'SKAGEN': 'Skagen', 'Skybags Unisex': 'Skybags_Unisex', \n",
    "    'Spice Art': 'Spice_Art', 'SPYKAR': 'Spykar', 'Stens by Enroute': 'Stens_by_Enroute', 'Suunto Vector': 'Suunto_Vector', 'Swiss Army': 'Swiss_Army', \n",
    "    'Taylor of London': 'Taylor_of_London', 'The Amazing Spiderman': 'The_Amazing_Spiderman', 'Tokyo Talkies': 'Tokyo_Talkies', 'Tommy Hilfiger': 'Toommy_Hilfiger', \n",
    "    'Tonino Lamborghini': 'Tonino_Lamborghini', 'TOUS': 'Tous', 'Under Colors of Benetton': 'Undercolors_of_Benetton', 'United colors of benetton': 'United_Colors_of_Benetton',\n",
    "    'Undercolors of Benetton': 'Undercolors_of_Benetton', 'United Colors of Benetton': 'United_Colors_of_Benetton', 'united Colors Of Benetton': 'United_Colors_of_Benetton', \n",
    "    'Urban Yoga': 'Urban_Yoga', 'Valentino Perfumes': 'Valentino_Perfumes', 'Valley of Flowers': 'Valley_of_Flowers', 'Van Heusen': 'Van_Heusen', 'Vero Moda': 'Vero_Moda', \n",
    "    'Vital Gear': 'Vital_Gear', 'W Women': 'W_Women', 'Warner Bros': 'Warner_Bros', 'Wild Stone': 'Wild_Stone', 'Basice': 'Basics', 'Wild stone': 'Wild_Stone', \n",
    "    'Yves Saint Laurent': 'Yves_Saint_Laurent', 'Dunhilll': 'Dunhill', 'Espirit': 'Esprit', 'United Colors Of Benetton': 'United_Colors_of_Benetton', 'Visudh': 'Vishudh',\n",
    "    'U.S. Polo Assn': 'U.S._Polo_Assn ', 'U.S.Polo Assn.': 'U.S._Polo_Assn', 'U.S. Polo Assn.': 'U.S._Polo_Assn', 'U.S. Polo Assn.Men': 'U.S._Polo_Assn Men', \n",
    "    'U.S._Polo_AssnMen' : 'U.S._Polo_Assn Men', \"Levis\": \"Levi's\",  \"Levisi\": \"Levi's\", \"Levi'si\": \"Levi's\"\n",
    "}\n",
    "\n",
    "product['productDisplayName'] = product['productDisplayName'].replace(brand_mapping, regex=True)"
   ]
  },
  {
   "cell_type": "code",
   "execution_count": 85,
   "metadata": {},
   "outputs": [],
   "source": [
    "product['productDisplayName'] = product['productDisplayName'].str.replace('U.S._Polo_AssnMen', 'U.S._Polo_Assn Men')"
   ]
  },
  {
   "cell_type": "code",
   "execution_count": 86,
   "metadata": {},
   "outputs": [],
   "source": [
    "#브랜드와 제품사양 분리\n",
    "product['brand'] = product['productDisplayName'].str.split().str[0]\n",
    "product['productdetail'] = product['productDisplayName'].str.split().str[1:].apply(' '.join)"
   ]
  },
  {
   "cell_type": "code",
   "execution_count": 87,
   "metadata": {},
   "outputs": [
    {
     "data": {
      "text/html": [
       "<div>\n",
       "<style scoped>\n",
       "    .dataframe tbody tr th:only-of-type {\n",
       "        vertical-align: middle;\n",
       "    }\n",
       "\n",
       "    .dataframe tbody tr th {\n",
       "        vertical-align: top;\n",
       "    }\n",
       "\n",
       "    .dataframe thead th {\n",
       "        text-align: right;\n",
       "    }\n",
       "</style>\n",
       "<table border=\"1\" class=\"dataframe\">\n",
       "  <thead>\n",
       "    <tr style=\"text-align: right;\">\n",
       "      <th></th>\n",
       "      <th>id</th>\n",
       "      <th>gender</th>\n",
       "      <th>masterCategory</th>\n",
       "      <th>subCategory</th>\n",
       "      <th>articleType</th>\n",
       "      <th>baseColour</th>\n",
       "      <th>season</th>\n",
       "      <th>year</th>\n",
       "      <th>usage</th>\n",
       "      <th>productDisplayName</th>\n",
       "      <th>brand</th>\n",
       "      <th>productdetail</th>\n",
       "    </tr>\n",
       "  </thead>\n",
       "  <tbody>\n",
       "    <tr>\n",
       "      <th>0</th>\n",
       "      <td>15970</td>\n",
       "      <td>Men</td>\n",
       "      <td>Apparel</td>\n",
       "      <td>Topwear</td>\n",
       "      <td>Shirts</td>\n",
       "      <td>Navy Blue</td>\n",
       "      <td>Fall</td>\n",
       "      <td>2011.0</td>\n",
       "      <td>Casual</td>\n",
       "      <td>Turtle Check Men Navy Blue Shirt</td>\n",
       "      <td>Turtle</td>\n",
       "      <td>Check Men Navy Blue Shirt</td>\n",
       "    </tr>\n",
       "    <tr>\n",
       "      <th>1</th>\n",
       "      <td>39386</td>\n",
       "      <td>Men</td>\n",
       "      <td>Apparel</td>\n",
       "      <td>Bottomwear</td>\n",
       "      <td>Jeans</td>\n",
       "      <td>Blue</td>\n",
       "      <td>Summer</td>\n",
       "      <td>2012.0</td>\n",
       "      <td>Casual</td>\n",
       "      <td>Peter_England Men Party Blue Jeans</td>\n",
       "      <td>Peter_England</td>\n",
       "      <td>Men Party Blue Jeans</td>\n",
       "    </tr>\n",
       "    <tr>\n",
       "      <th>2</th>\n",
       "      <td>59263</td>\n",
       "      <td>Women</td>\n",
       "      <td>Accessories</td>\n",
       "      <td>Watches</td>\n",
       "      <td>Watches</td>\n",
       "      <td>Silver</td>\n",
       "      <td>Winter</td>\n",
       "      <td>2016.0</td>\n",
       "      <td>Casual</td>\n",
       "      <td>Titan Women Silver Watch</td>\n",
       "      <td>Titan</td>\n",
       "      <td>Women Silver Watch</td>\n",
       "    </tr>\n",
       "    <tr>\n",
       "      <th>3</th>\n",
       "      <td>21379</td>\n",
       "      <td>Men</td>\n",
       "      <td>Apparel</td>\n",
       "      <td>Bottomwear</td>\n",
       "      <td>Track Pants</td>\n",
       "      <td>Black</td>\n",
       "      <td>Fall</td>\n",
       "      <td>2011.0</td>\n",
       "      <td>Casual</td>\n",
       "      <td>Manchester_United Men Solid Black Track Pants</td>\n",
       "      <td>Manchester_United</td>\n",
       "      <td>Men Solid Black Track Pants</td>\n",
       "    </tr>\n",
       "    <tr>\n",
       "      <th>4</th>\n",
       "      <td>53759</td>\n",
       "      <td>Men</td>\n",
       "      <td>Apparel</td>\n",
       "      <td>Topwear</td>\n",
       "      <td>Tshirts</td>\n",
       "      <td>Grey</td>\n",
       "      <td>Summer</td>\n",
       "      <td>2012.0</td>\n",
       "      <td>Casual</td>\n",
       "      <td>Puma Men Grey T-shirt</td>\n",
       "      <td>Puma</td>\n",
       "      <td>Men Grey T-shirt</td>\n",
       "    </tr>\n",
       "  </tbody>\n",
       "</table>\n",
       "</div>"
      ],
      "text/plain": [
       "      id gender masterCategory subCategory  articleType baseColour  season  \\\n",
       "0  15970    Men        Apparel     Topwear       Shirts  Navy Blue    Fall   \n",
       "1  39386    Men        Apparel  Bottomwear        Jeans       Blue  Summer   \n",
       "2  59263  Women    Accessories     Watches      Watches     Silver  Winter   \n",
       "3  21379    Men        Apparel  Bottomwear  Track Pants      Black    Fall   \n",
       "4  53759    Men        Apparel     Topwear      Tshirts       Grey  Summer   \n",
       "\n",
       "     year   usage                             productDisplayName  \\\n",
       "0  2011.0  Casual               Turtle Check Men Navy Blue Shirt   \n",
       "1  2012.0  Casual             Peter_England Men Party Blue Jeans   \n",
       "2  2016.0  Casual                       Titan Women Silver Watch   \n",
       "3  2011.0  Casual  Manchester_United Men Solid Black Track Pants   \n",
       "4  2012.0  Casual                          Puma Men Grey T-shirt   \n",
       "\n",
       "               brand                productdetail  \n",
       "0             Turtle    Check Men Navy Blue Shirt  \n",
       "1      Peter_England         Men Party Blue Jeans  \n",
       "2              Titan           Women Silver Watch  \n",
       "3  Manchester_United  Men Solid Black Track Pants  \n",
       "4               Puma             Men Grey T-shirt  "
      ]
     },
     "execution_count": 87,
     "metadata": {},
     "output_type": "execute_result"
    }
   ],
   "source": [
    "product.head()"
   ]
  },
  {
   "cell_type": "code",
   "execution_count": 88,
   "metadata": {},
   "outputs": [
    {
     "name": "stdout",
     "output_type": "stream",
     "text": [
      "usage: 422\n"
     ]
    }
   ],
   "source": [
    "print(\"usage:\", product['brand'].nunique())"
   ]
  },
  {
   "cell_type": "code",
   "execution_count": 89,
   "metadata": {},
   "outputs": [
    {
     "data": {
      "text/plain": [
       "id                    0\n",
       "gender                0\n",
       "masterCategory        0\n",
       "subCategory           0\n",
       "articleType           0\n",
       "baseColour            0\n",
       "season                0\n",
       "year                  0\n",
       "usage                 0\n",
       "productDisplayName    0\n",
       "brand                 0\n",
       "productdetail         0\n",
       "dtype: int64"
      ]
     },
     "execution_count": 89,
     "metadata": {},
     "output_type": "execute_result"
    }
   ],
   "source": [
    "product.isnull().sum()"
   ]
  },
  {
   "cell_type": "code",
   "execution_count": 90,
   "metadata": {},
   "outputs": [],
   "source": [
    "product.to_csv(\"product_n.csv\", index=False)"
   ]
  }
 ],
 "metadata": {
  "kernelspec": {
   "display_name": "s1n1",
   "language": "python",
   "name": "python3"
  },
  "language_info": {
   "codemirror_mode": {
    "name": "ipython",
    "version": 3
   },
   "file_extension": ".py",
   "mimetype": "text/x-python",
   "name": "python",
   "nbconvert_exporter": "python",
   "pygments_lexer": "ipython3",
   "version": "3.8.16"
  },
  "orig_nbformat": 4
 },
 "nbformat": 4,
 "nbformat_minor": 2
}
